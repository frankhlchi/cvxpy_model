{
 "cells": [
  {
   "cell_type": "code",
   "execution_count": 1,
   "metadata": {},
   "outputs": [],
   "source": [
    "# Read text files\n",
    "from gurobipy import *\n",
    "import numpy as np\n",
    "import math\n",
    "import matplotlib.pyplot"
   ]
  },
  {
   "cell_type": "code",
   "execution_count": 2,
   "metadata": {},
   "outputs": [],
   "source": [
    "# Extract coordiantes and orgainze them\n",
    "airport = ['a','b','c']\n",
    "combination = ['ab','ac','ba','bc','ca','cb']\n",
    "come_cargo_dic= {'ab': [100, 200, 100, 400, 300],\n",
    "'ac':[50, 50, 50, 50, 50],\n",
    "'ba':[25, 25, 25, 25, 25],\n",
    "'bc':[25, 25, 25, 25, 25],\n",
    "'ca':[40, 40, 40, 40, 40],\n",
    "'cb':[400, 200, 300, 200, 400]}"
   ]
  },
  {
   "cell_type": "markdown",
   "metadata": {},
   "source": [
    "### decision variable "
   ]
  },
  {
   "cell_type": "code",
   "execution_count": 3,
   "metadata": {},
   "outputs": [
    {
     "name": "stdout",
     "output_type": "stream",
     "text": [
      "Academic license - for non-commercial use only\n"
     ]
    }
   ],
   "source": [
    "# Create decision variables x and store them in the arrary myVars\n",
    "\n",
    "myModel = Model( \"Project\" )\n",
    "E_var = {}\n",
    "for d in range (1,6):\n",
    "    E_var[d] = {}\n",
    "    for i in range (1,7):\n",
    "        E_var[d][combination[i-1]] = {}\n",
    "        name_var = \"E\" + str(d) + combination[i-1]\n",
    "        E_var[d][combination[i-1]] = myModel.addVar( vtype = GRB.CONTINUOUS, name =  name_var )\n",
    "\n",
    "H_var = {}\n",
    "for d in range (1,6):\n",
    "    H_var[d] = {}\n",
    "    for i in range (1,7):\n",
    "        H_var[d][combination[i-1]] = {}\n",
    "        name_var =  \"H\" + str(d) + combination[i-1]\n",
    "        H_var[d][combination[i-1]] = myModel.addVar( vtype = GRB.CONTINUOUS, name = name_var )\n",
    "        \n",
    "F_var = {}\n",
    "for d in range (1,6):\n",
    "    F_var[d] = {}\n",
    "    for i in range (1,7):\n",
    "        F_var[d][combination[i-1]] = {}\n",
    "        name_var =  \"F\" + str(d) + combination[i-1]\n",
    "        F_var[d][combination[i-1]] = myModel.addVar( vtype = GRB.CONTINUOUS, name =  name_var )\n",
    "\n",
    "I_var = {}\n",
    "for d in range (1,6):\n",
    "    I_var[d] = {}\n",
    "    for i in range (1,4):\n",
    "        I_var[d][airport[i-1]] = {}\n",
    "        name_var = \"I\" + str(d) + airport[i-1]\n",
    "        I_var[d][airport[i-1]] = myModel.addVar( vtype = GRB.CONTINUOUS, name = name_var )\n",
    "\n",
    "myModel.update()\n",
    "myVars = myModel.getVars()"
   ]
  },
  {
   "cell_type": "code",
   "execution_count": 4,
   "metadata": {},
   "outputs": [
    {
     "name": "stdout",
     "output_type": "stream",
     "text": [
      "reposition variable:\n",
      " ['E1ab', 'E1ac', 'E1ba', 'E1bc', 'E1ca', 'E1cb', 'E2ab', 'E2ac', 'E2ba', 'E2bc', 'E2ca', 'E2cb', 'E3ab', 'E3ac', 'E3ba', 'E3bc', 'E3ca', 'E3cb', 'E4ab', 'E4ac', 'E4ba', 'E4bc', 'E4ca', 'E4cb', 'E5ab', 'E5ac', 'E5ba', 'E5bc', 'E5ca', 'E5cb']\n",
      "cargo variable:\n",
      " ['F1ab', 'F1ac', 'F1ba', 'F1bc', 'F1ca', 'F1cb', 'F2ab', 'F2ac', 'F2ba', 'F2bc', 'F2ca', 'F2cb', 'F3ab', 'F3ac', 'F3ba', 'F3bc', 'F3ca', 'F3cb', 'F4ab', 'F4ac', 'F4ba', 'F4bc', 'F4ca', 'F4cb', 'F5ab', 'F5ac', 'F5ba', 'F5bc', 'F5ca', 'F5cb']\n",
      "idle variable:\n",
      " ['I1a', 'I1b', 'I1c', 'I2a', 'I2b', 'I2c', 'I3a', 'I3b', 'I3c', 'I4a', 'I4b', 'I4c', 'I5a', 'I5b', 'I5c']\n",
      "holding cargo:\n",
      " ['H1ab', 'H1ac', 'H1ba', 'H1bc', 'H1ca', 'H1cb', 'H2ab', 'H2ac', 'H2ba', 'H2bc', 'H2ca', 'H2cb', 'H3ab', 'H3ac', 'H3ba', 'H3bc', 'H3ca', 'H3cb', 'H4ab', 'H4ac', 'H4ba', 'H4bc', 'H4ca', 'H4cb', 'H5ab', 'H5ac', 'H5ba', 'H5bc', 'H5ca', 'H5cb']\n"
     ]
    }
   ],
   "source": [
    "print ('reposition variable:\\n', [i.varName for i in myVars if i.varName[0] =='E'])\n",
    "print ('cargo variable:\\n', [i.varName for i in myVars if i.varName[0] =='F'])\n",
    "print ('idle variable:\\n', [i.varName for i in myVars if i.varName[0] =='I'])\n",
    "print ('holding cargo:\\n', [i.varName for i in myVars if i.varName[0] =='H'])"
   ]
  },
  {
   "cell_type": "markdown",
   "metadata": {},
   "source": [
    "### Objective function "
   ]
  },
  {
   "cell_type": "code",
   "execution_count": 5,
   "metadata": {},
   "outputs": [],
   "source": [
    "# Create a linear expression for the objective\n",
    "objExpr = LinExpr()\n",
    "\n",
    "for d in range (1,6):\n",
    "    objExpr +=  (E_var[d]['ab'] + E_var[d]['ba']) *7 +\\\n",
    "    (E_var[d]['bc'] + E_var[d]['cb']) *6 +\\\n",
    "     (E_var[d]['ac'] + E_var[d]['ca']) *3   \n",
    "for d in range (1,5):\n",
    "    for c in combination:\n",
    "        objExpr += H_var[d][c] * 10\n",
    "for c in combination:\n",
    "    objExpr += H_var[5][c] *30\n",
    "\n",
    "myModel.setObjective(objExpr, GRB.MINIMIZE)\n",
    "myModel.update()"
   ]
  },
  {
   "cell_type": "markdown",
   "metadata": {},
   "source": [
    "###  constraints"
   ]
  },
  {
   "cell_type": "code",
   "execution_count": 6,
   "metadata": {},
   "outputs": [],
   "source": [
    "# Create constraints\n",
    "# Cargo part \n",
    "for c in combination:\n",
    "    for d in range (1,5):\n",
    "        constExpr = LinExpr()\n",
    "        constExpr += H_var[d][c] + come_cargo_dic[c][d] - F_var[d+1][c]\n",
    "        myModel.addConstr( lhs = constExpr , sense = GRB.EQUAL, \\\n",
    "                   rhs = H_var[d+1][c] , name = 'cargo_%s_%s'%(str(d),str(c)) )\n",
    "    # special Friday\n",
    "    constExpr = LinExpr()\n",
    "    constExpr += H_var[5][c] + come_cargo_dic[c][0] - F_var[1][c]\n",
    "    myModel.addConstr( lhs = constExpr , sense = GRB.EQUAL, \\\n",
    "                   rhs = H_var[1][c] , name = 'cargo_%s_%s'%(str(5),str(c)) )"
   ]
  },
  {
   "cell_type": "code",
   "execution_count": 7,
   "metadata": {},
   "outputs": [],
   "source": [
    "#aircraft part 1\n",
    "for d in range (1,5):\n",
    "    for loc in ['a','b','c']:\n",
    "    #left hand side \n",
    "        constExpr_l = LinExpr()\n",
    "        constExpr_l += I_var[d][loc]\n",
    "        # iterate all combination end with loc\n",
    "        for com in [c for c in combination if c[1] == loc]:\n",
    "            constExpr_l += E_var[d][com] + F_var[d][com]\n",
    "        #right hand side \n",
    "        constExpr_r = LinExpr()\n",
    "        constExpr_r += I_var[d+1][loc]\n",
    "        # iterate all combination start with loc\n",
    "        for com in [c for c in combination if c[0] == loc]:\n",
    "            constExpr_r += E_var[d+1][com] + F_var[d+1][com]\n",
    "        myModel.addConstr( lhs = constExpr_l , sense = GRB.EQUAL, \\\n",
    "                       rhs = constExpr_r , name = 'aircraft_1_%s_%s'%(str(d),str(loc)) )\n",
    "# special Friday\n",
    "d = 5\n",
    "d_plus_1 = 1\n",
    "for loc in ['a','b','c']:\n",
    "    constExpr_l = LinExpr()\n",
    "    constExpr_l += I_var[d][loc]\n",
    "    # iterate all combination end with loc\n",
    "    for com in [c for c in combination if c[1] == loc]:\n",
    "        constExpr_l += E_var[d][com] + F_var[d][com]\n",
    "    \n",
    "    #right hand side \n",
    "    constExpr_r = LinExpr()\n",
    "    constExpr_r += I_var[d_plus_1 ][loc]\n",
    "    # iterate all combination start with loc\n",
    "    for com in [c for c in combination if c[0] == loc]:\n",
    "        constExpr_r += E_var[d_plus_1][com] + F_var[d_plus_1 ][com]\n",
    "    myModel.addConstr( lhs = constExpr_l , sense = GRB.EQUAL, \\\n",
    "                   rhs = constExpr_r , name = 'aircraft_1_%s_%s'%(str(d),str(loc)) )\n"
   ]
  },
  {
   "cell_type": "code",
   "execution_count": 8,
   "metadata": {},
   "outputs": [],
   "source": [
    "#aircraft part 2\n",
    "# the index d here is for H_var, e.g F2ab = H1ab + come_cargo_dic[ab][1] (200)\n",
    "for d in range (1,5):\n",
    "    for c in combination:\n",
    "        constExpr_r = LinExpr()\n",
    "        constExpr_r += H_var[d][c] + come_cargo_dic[c][d]\n",
    "        myModel.addConstr( lhs = F_var[d+1][c] , sense = GRB.LESS_EQUAL, \\\n",
    "                   rhs = constExpr_r , name = 'aircraft_2_%s_%s'%(str(d),str(c)) )\n",
    "# special Friday\n",
    "for c in combination:\n",
    "    constExpr_r = LinExpr()\n",
    "    constExpr_r += H_var[5][c] + come_cargo_dic[c][0]\n",
    "    myModel.addConstr( lhs = F_var[1][c] , sense = GRB.LESS_EQUAL, \\\n",
    "               rhs = constExpr_r , name = 'aircraft_2_%s_%s'%(str(5),str(c)) )"
   ]
  },
  {
   "cell_type": "code",
   "execution_count": 9,
   "metadata": {},
   "outputs": [],
   "source": [
    "#aircraft part 3\n",
    "for d in range (1,6):\n",
    "    constExpr_l = LinExpr()\n",
    "    for item in list(E_var[d].values()) + list(F_var[d].values()) + list(I_var[d].values()):\n",
    "        constExpr_l += item \n",
    "    myModel.addConstr(lhs =constExpr_l, sense = GRB.EQUAL, rhs =1200, \\\n",
    "                      name = 'aircraft_3_%s'%str(d) )\n",
    "\n",
    "#aircraft part 4\n",
    "for c in combination:\n",
    "    constExpr_l = LinExpr()\n",
    "    for d in range (1,6):\n",
    "        constExpr_l += F_var[d][c]\n",
    "    myModel.addConstr(lhs =constExpr_l, sense = GRB.EQUAL, rhs =np.sum(come_cargo_dic[c]), \\\n",
    "                      name = 'aircraft_4_%s_%s'%(str(c),str(d)) )\n",
    "    \n",
    "myModel.update()"
   ]
  },
  {
   "cell_type": "code",
   "execution_count": 10,
   "metadata": {},
   "outputs": [
    {
     "name": "stdout",
     "output_type": "stream",
     "text": [
      "Optimize a model with 86 rows, 105 columns and 405 nonzeros\n",
      "Coefficient statistics:\n",
      "  Matrix range     [1e+00, 1e+00]\n",
      "  Objective range  [3e+00, 3e+01]\n",
      "  Bounds range     [0e+00, 0e+00]\n",
      "  RHS range        [2e+01, 2e+03]\n",
      "Presolve removed 11 rows and 2 columns\n",
      "Presolve time: 0.02s\n",
      "Presolved: 75 rows, 103 columns, 308 nonzeros\n",
      "\n",
      "Iteration    Objective       Primal Inf.    Dual Inf.      Time\n",
      "       0    0.0000000e+00   9.906250e+02   0.000000e+00      0s\n",
      "      24    2.1725000e+04   0.000000e+00   0.000000e+00      0s\n",
      "\n",
      "Solved in 24 iterations and 0.02 seconds\n",
      "Optimal objective  2.172500000e+04\n"
     ]
    }
   ],
   "source": [
    "# Solve\n",
    "myModel.optimize()"
   ]
  },
  {
   "cell_type": "code",
   "execution_count": 11,
   "metadata": {},
   "outputs": [
    {
     "name": "stdout",
     "output_type": "stream",
     "text": [
      "\n",
      "Optimal Objective: 21725.0\n",
      "\n",
      "Optimal Solution:\n",
      "E1ab 0.0\n",
      "E1ac 0.0\n",
      "E1ba 295.0\n",
      "E1bc 165.0\n",
      "E1ca 0.0\n",
      "E1cb 0.0\n",
      "E2ab 0.0\n",
      "E2ac 0.0\n",
      "E2ba 120.0\n",
      "E2bc 430.0\n",
      "E2ca 0.0\n",
      "E2cb 0.0\n",
      "E3ab 0.0\n",
      "E3ac 0.0\n",
      "E3ba 425.0\n",
      "E3bc 0.0\n",
      "E3ca 0.0\n",
      "E3cb 0.0\n",
      "E4ab 0.0\n",
      "E4ac 0.0\n",
      "E4ba 0.0\n",
      "E4bc 365.0\n",
      "E4ca 0.0\n",
      "E4cb 0.0\n",
      "E5ab 0.0\n",
      "E5ac 0.0\n",
      "E5ba 185.0\n",
      "E5bc 365.0\n",
      "E5ca 0.0\n",
      "E5cb 0.0\n",
      "H1ab 90.0\n",
      "H1ac 0.0\n",
      "H1ba 0.0\n",
      "H1bc 0.0\n",
      "H1ca 0.0\n",
      "H1cb 0.0\n",
      "H2ab 0.0\n",
      "H2ac 0.0\n",
      "H2ba 0.0\n",
      "H2bc 0.0\n",
      "H2ca 0.0\n",
      "H2cb 0.0\n",
      "H3ab 0.0\n",
      "H3ac 0.0\n",
      "H3ba 0.0\n",
      "H3bc 0.0\n",
      "H3ca 0.0\n",
      "H3cb 0.0\n",
      "H4ab 0.0\n",
      "H4ac 0.0\n",
      "H4ba 0.0\n",
      "H4bc 0.0\n",
      "H4ca 0.0\n",
      "H4cb 0.0\n",
      "H5ab 190.0\n",
      "H5ac 0.0\n",
      "H5ba 0.0\n",
      "H5bc 0.0\n",
      "H5ca 0.0\n",
      "H5cb 0.0\n",
      "F1ab 200.0\n",
      "F1ac 50.0\n",
      "F1ba 25.0\n",
      "F1bc 25.0\n",
      "F1ca 40.0\n",
      "F1cb 400.0\n",
      "F2ab 290.0\n",
      "F2ac 50.0\n",
      "F2ba 25.0\n",
      "F2bc 25.0\n",
      "F2ca 40.0\n",
      "F2cb 200.0\n",
      "F3ab 100.0\n",
      "F3ac 50.0\n",
      "F3ba 25.0\n",
      "F3bc 25.0\n",
      "F3ca 40.0\n",
      "F3cb 300.0\n",
      "F4ab 400.0\n",
      "F4ac 50.0\n",
      "F4ba 25.0\n",
      "F4bc 25.0\n",
      "F4ca 40.0\n",
      "F4cb 200.0\n",
      "F5ab 110.0\n",
      "F5ac 50.0\n",
      "F5ba 25.0\n",
      "F5bc 25.0\n",
      "F5ca 40.0\n",
      "F5cb 400.0\n",
      "I1a 0.0\n",
      "I1b 0.0\n",
      "I1c 0.0\n",
      "I2a 20.0\n",
      "I2b 0.0\n",
      "I2c 0.0\n",
      "I3a 55.0\n",
      "I3b 15.0\n",
      "I3c 165.0\n",
      "I4a 95.0\n",
      "I4b 0.0\n",
      "I4c 0.0\n",
      "I5a 0.0\n",
      "I5b 0.0\n",
      "I5c 0.0\n"
     ]
    }
   ],
   "source": [
    "print( \"\\nOptimal Objective: \" + str( myModel.ObjVal ) )\n",
    "print( \"\\nOptimal Solution:\" )\n",
    "myVars = myModel.getVars()\n",
    "for curVar in myVars:\n",
    "    print ( curVar.varName + \" \" + str( curVar.x ) )\n",
    "    "
   ]
  },
  {
   "cell_type": "code",
   "execution_count": 12,
   "metadata": {},
   "outputs": [],
   "source": [
    "myModel.write( \"project.lp\" )"
   ]
  },
  {
   "cell_type": "code",
   "execution_count": null,
   "metadata": {},
   "outputs": [],
   "source": []
  }
 ],
 "metadata": {
  "hide_input": false,
  "kernelspec": {
   "display_name": "Python 3",
   "language": "python",
   "name": "python3"
  },
  "language_info": {
   "codemirror_mode": {
    "name": "ipython",
    "version": 3
   },
   "file_extension": ".py",
   "mimetype": "text/x-python",
   "name": "python",
   "nbconvert_exporter": "python",
   "pygments_lexer": "ipython3",
   "version": "3.7.2"
  },
  "latex_envs": {
   "LaTeX_envs_menu_present": true,
   "autoclose": false,
   "autocomplete": true,
   "bibliofile": "biblio.bib",
   "cite_by": "apalike",
   "current_citInitial": 1,
   "eqLabelWithNumbers": true,
   "eqNumInitial": 1,
   "hotkeys": {
    "equation": "Ctrl-E",
    "itemize": "Ctrl-I"
   },
   "labels_anchors": false,
   "latex_user_defs": false,
   "report_style_numbering": false,
   "user_envs_cfg": false
  },
  "toc": {
   "base_numbering": 1,
   "nav_menu": {},
   "number_sections": true,
   "sideBar": true,
   "skip_h1_title": false,
   "title_cell": "Table of Contents",
   "title_sidebar": "Contents",
   "toc_cell": false,
   "toc_position": {},
   "toc_section_display": true,
   "toc_window_display": false
  }
 },
 "nbformat": 4,
 "nbformat_minor": 2
}
