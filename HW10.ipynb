{
 "cells": [
  {
   "cell_type": "markdown",
   "metadata": {},
   "source": [
    "## Part B"
   ]
  },
  {
   "cell_type": "code",
   "execution_count": 1,
   "metadata": {},
   "outputs": [],
   "source": [
    "import pandas as pd\n",
    "import numpy as np\n",
    "from gurobipy import *\n",
    "from scipy.spatial import distance\n",
    "pd.options.display.max_rows = 500\n",
    "import matplotlib.pyplot as plt"
   ]
  },
  {
   "cell_type": "markdown",
   "metadata": {},
   "source": [
    "### data inport "
   ]
  },
  {
   "cell_type": "code",
   "execution_count": 2,
   "metadata": {},
   "outputs": [],
   "source": [
    "DP_data =  pd.read_excel('data.xlsx', sheet_name='DPs')\n",
    "FC_data =  pd.read_excel('data.xlsx', sheet_name='FCs')"
   ]
  },
  {
   "cell_type": "code",
   "execution_count": 3,
   "metadata": {
    "scrolled": true
   },
   "outputs": [],
   "source": [
    "dis_dic = {}\n",
    "for i in range(len(FC_data)):\n",
    "    fc_cor = (FC_data[FC_data.index == i].x.values[0], FC_data[FC_data.index == i].y.values[0])\n",
    "    for j in range(len(DP_data)):\n",
    "        dp_cor = (DP_data[DP_data.index == j].x.values[0], DP_data[DP_data.index == j].y.values[0])\n",
    "        dis_dic[(i,j)] = distance.euclidean(fc_cor, dp_cor)"
   ]
  },
  {
   "cell_type": "markdown",
   "metadata": {},
   "source": [
    "### gurobi model"
   ]
  },
  {
   "cell_type": "code",
   "execution_count": 4,
   "metadata": {},
   "outputs": [
    {
     "name": "stdout",
     "output_type": "stream",
     "text": [
      "Academic license - for non-commercial use only\n"
     ]
    }
   ],
   "source": [
    "myModel = Model( \"fl_problem\" )\n",
    "var_dic_x = {}\n",
    "var_dic_y = {}\n",
    "\n",
    "#decision varaible \n",
    "for i in range(len(FC_data)):\n",
    "    for k in [1,2,3]:\n",
    "        var_dic_x[(i,k)] = myModel.addVar(vtype = GRB.BINARY , \\\n",
    "                                                       name = \"x%s\"%(str(i) + '_' + str(k)))\n",
    "for i in range(len(FC_data)):\n",
    "    for j in range(len(DP_data)):\n",
    "        for k in [1,2,3]:\n",
    "            var_dic_y[(i,j,k)] = myModel.addVar(vtype = GRB.BINARY , \\\n",
    "                                                  name = \"y%s\"%(str(i) + '_' + str(j) + '_' + str(k)))\n",
    "myModel.update()  "
   ]
  },
  {
   "cell_type": "code",
   "execution_count": 5,
   "metadata": {},
   "outputs": [],
   "source": [
    "#objective function \n",
    "objExpr = LinExpr()\n",
    "for i in range(len(FC_data)):\n",
    "    for j in range(len(DP_data)):\n",
    "        objExpr +=  6* dis_dic[(i,j)] * var_dic_y[(i,j,1)]\n",
    "\n",
    "for i in range(len(FC_data)):\n",
    "    for j in range(len(DP_data)):\n",
    "        objExpr +=  5* dis_dic[(i,j)] * var_dic_y[(i,j,2)]\n",
    "\n",
    "for i in range(len(FC_data)):\n",
    "    for j in range(len(DP_data)):\n",
    "        objExpr +=  9* dis_dic[(i,j)] * var_dic_y[(i,j,3)]\n",
    "\n",
    "myModel.setObjective(objExpr , GRB.MINIMIZE)\n",
    "myModel.update()  "
   ]
  },
  {
   "cell_type": "code",
   "execution_count": 6,
   "metadata": {},
   "outputs": [
    {
     "name": "stdout",
     "output_type": "stream",
     "text": [
      "Warning: linear constraint 600 and linear constraint 603 have the same name \"Const_2_9_1\"\n",
      "Optimize a model with 683 rows, 630 columns and 1880 nonzeros\n",
      "Variable types: 0 continuous, 630 integer (630 binary)\n",
      "Coefficient statistics:\n",
      "  Matrix range     [1e+00, 3e+00]\n",
      "  Objective range  [2e+01, 1e+03]\n",
      "  Bounds range     [1e+00, 1e+00]\n",
      "  RHS range        [1e+00, 3e+00]\n",
      "Presolve removed 220 rows and 200 columns\n",
      "Presolve time: 0.04s\n",
      "Presolved: 463 rows, 430 columns, 1270 nonzeros\n",
      "Variable types: 0 continuous, 430 integer (430 binary)\n",
      "Found heuristic solution: objective 15783.984968\n",
      "\n",
      "Root relaxation: objective 1.276015e+04, 223 iterations, 0.00 seconds\n",
      "\n",
      "    Nodes    |    Current Node    |     Objective Bounds      |     Work\n",
      " Expl Unexpl |  Obj  Depth IntInf | Incumbent    BestBd   Gap | It/Node Time\n",
      "\n",
      "*    0     0               0    12760.151023 12760.1510  0.00%     -    0s\n",
      "\n",
      "Explored 0 nodes (223 simplex iterations) in 0.16 seconds\n",
      "Thread count was 4 (of 4 available processors)\n",
      "\n",
      "Solution count 2: 12760.2 15784 \n",
      "\n",
      "Optimal solution found (tolerance 1.00e-04)\n",
      "Best objective 1.276015102350e+04, best bound 1.276015102350e+04, gap 0.0000%\n",
      "\n",
      "Optimal Objective: 12760.151023497481\n"
     ]
    }
   ],
   "source": [
    "#constraint function\n",
    "for i in range(len(FC_data)):\n",
    "    for j in range(len(DP_data)):\n",
    "        for k in [1,2,3]:\n",
    "            Constr_1 = LinExpr()\n",
    "            for k_ in [m for m in range(1, k +1)]:\n",
    "                Constr_1 += var_dic_x[(i,k)] \n",
    "            myModel.addConstr( lhs = var_dic_y[(i,j,k)] , sense = GRB.LESS_EQUAL, \\\n",
    "                   rhs = Constr_1 , name = \"Const_1_\" + (str(i) + '_' + str(j) + '_' + str(k)) )\n",
    "\n",
    "for j in range(len(DP_data)):\n",
    "    for k in [1,2,3]: \n",
    "        Constr_2 = LinExpr()\n",
    "        for i in range(len(FC_data)):\n",
    "            Constr_2 += var_dic_y[(i,j,k)]\n",
    "        myModel.addConstr( lhs = Constr_2 , sense = GRB.EQUAL , rhs = 1 , \\\n",
    "                       name = \"Const_2_\" + str(i)+ '_' + str(k) )\n",
    "\n",
    "for k in [1,2,3]:\n",
    "    Constr_3 = LinExpr()\n",
    "    for i in range(len(FC_data)):\n",
    "        Constr_3 += var_dic_x[(i,k)] \n",
    "    myModel.addConstr( lhs = Constr_3 , sense = GRB.EQUAL , rhs = k , \\\n",
    "                       name = \"Const_3_\" + str(i)+ '_' + str(k) )\n",
    "        \n",
    "for i in range(len(FC_data)):\n",
    "    for k in [1,2]:\n",
    "        Constr_open = LinExpr()\n",
    "        for k_ in [1,2,3]:\n",
    "            if k_ > k: \n",
    "                Constr_open += var_dic_x[(i,k_)]\n",
    "        myModel.addConstr( lhs = var_dic_x[(i,k)] , sense = GRB.LESS_EQUAL , rhs =  Constr_open , \\\n",
    "                               name = \"Const_open_\" + str(i)+ '_' + str(k) ) \n",
    "\n",
    "    \n",
    "    \n",
    "myModel.update()\n",
    "# write the model in a file to make sure it is constructed correctly\n",
    "myModel.write( filename = \"fl.lp\" )\n",
    "\n",
    "# optimize the model\n",
    "myModel.optimize()\n",
    "\n",
    "# check the status of the model\n",
    "curStatus = myModel.status\n",
    "if curStatus in (GRB.Status.INF_OR_UNBD, GRB.Status.INFEASIBLE, \\\n",
    "              GRB.Status.UNBOUNDED):\n",
    "    print( \"Could not find the optimal solution\" )\n",
    "    exit(1)\n",
    "\n",
    "# print optimal objective and optimal solution\n",
    "print( \"\\nOptimal Objective: \" + str( myModel.ObjVal ) )\n"
   ]
  },
  {
   "cell_type": "markdown",
   "metadata": {},
   "source": [
    "### result output and plot "
   ]
  },
  {
   "cell_type": "code",
   "execution_count": 7,
   "metadata": {
    "scrolled": true
   },
   "outputs": [],
   "source": [
    "myVars = myModel.getVars()\n",
    "df = pd.DataFrame({'name': [i.varName for i in myVars], 'value':[i.x for i in myVars]})\n",
    "df['label'] = df.name.apply(lambda x:x[0])\n",
    "df['k'] = df.name.apply(lambda x:x[-1])\n",
    "df_x = df[df.label=='x'].copy().sort_values('k')\n",
    "df_y = df[df.label=='y'].copy().sort_values('k')\n",
    "df_y['i'] = df_y.name.apply(lambda x: x[1:].split('_')[0])\n",
    "df_y['j'] = df_y.name.apply(lambda x: x[1:].split('_')[1])\n",
    "df_y['cost'] =df_y.apply(lambda x: dis_dic[(int(x.i), int(x.j))],axis=1)"
   ]
  },
  {
   "cell_type": "code",
   "execution_count": 8,
   "metadata": {},
   "outputs": [
    {
     "data": {
      "text/html": [
       "<div>\n",
       "<style scoped>\n",
       "    .dataframe tbody tr th:only-of-type {\n",
       "        vertical-align: middle;\n",
       "    }\n",
       "\n",
       "    .dataframe tbody tr th {\n",
       "        vertical-align: top;\n",
       "    }\n",
       "\n",
       "    .dataframe thead th {\n",
       "        text-align: right;\n",
       "    }\n",
       "</style>\n",
       "<table border=\"1\" class=\"dataframe\">\n",
       "  <thead>\n",
       "    <tr style=\"text-align: right;\">\n",
       "      <th></th>\n",
       "      <th>FC index</th>\n",
       "      <th>x</th>\n",
       "      <th>y</th>\n",
       "    </tr>\n",
       "  </thead>\n",
       "  <tbody>\n",
       "    <tr>\n",
       "      <th>0</th>\n",
       "      <td>0</td>\n",
       "      <td>60</td>\n",
       "      <td>15</td>\n",
       "    </tr>\n",
       "    <tr>\n",
       "      <th>1</th>\n",
       "      <td>1</td>\n",
       "      <td>26</td>\n",
       "      <td>36</td>\n",
       "    </tr>\n",
       "    <tr>\n",
       "      <th>2</th>\n",
       "      <td>2</td>\n",
       "      <td>73</td>\n",
       "      <td>34</td>\n",
       "    </tr>\n",
       "    <tr>\n",
       "      <th>3</th>\n",
       "      <td>3</td>\n",
       "      <td>57</td>\n",
       "      <td>54</td>\n",
       "    </tr>\n",
       "    <tr>\n",
       "      <th>4</th>\n",
       "      <td>4</td>\n",
       "      <td>18</td>\n",
       "      <td>19</td>\n",
       "    </tr>\n",
       "    <tr>\n",
       "      <th>5</th>\n",
       "      <td>5</td>\n",
       "      <td>11</td>\n",
       "      <td>1</td>\n",
       "    </tr>\n",
       "    <tr>\n",
       "      <th>6</th>\n",
       "      <td>6</td>\n",
       "      <td>60</td>\n",
       "      <td>77</td>\n",
       "    </tr>\n",
       "    <tr>\n",
       "      <th>7</th>\n",
       "      <td>7</td>\n",
       "      <td>68</td>\n",
       "      <td>44</td>\n",
       "    </tr>\n",
       "    <tr>\n",
       "      <th>8</th>\n",
       "      <td>8</td>\n",
       "      <td>97</td>\n",
       "      <td>65</td>\n",
       "    </tr>\n",
       "    <tr>\n",
       "      <th>9</th>\n",
       "      <td>9</td>\n",
       "      <td>4</td>\n",
       "      <td>79</td>\n",
       "    </tr>\n",
       "  </tbody>\n",
       "</table>\n",
       "</div>"
      ],
      "text/plain": [
       "   FC index   x   y\n",
       "0         0  60  15\n",
       "1         1  26  36\n",
       "2         2  73  34\n",
       "3         3  57  54\n",
       "4         4  18  19\n",
       "5         5  11   1\n",
       "6         6  60  77\n",
       "7         7  68  44\n",
       "8         8  97  65\n",
       "9         9   4  79"
      ]
     },
     "execution_count": 8,
     "metadata": {},
     "output_type": "execute_result"
    }
   ],
   "source": [
    "FC_data['FC index'] = FC_data.index\n",
    "FC_data[['FC index','x','y']]"
   ]
  },
  {
   "cell_type": "code",
   "execution_count": 9,
   "metadata": {
    "scrolled": false
   },
   "outputs": [
    {
     "name": "stdout",
     "output_type": "stream",
     "text": [
      "Stage 1, ALL open FC: {'6'}, NEW optimal open FC:{'6'}\n",
      "Stage 2, ALL open FC: {'6', '0'}, NEW optimal open FC:{'0'}\n",
      "Stage 3, ALL open FC: {'6', '9', '0'}, NEW optimal open FC:{'9'}\n"
     ]
    }
   ],
   "source": [
    "open_dc = set([])\n",
    "for k in df_x.k.unique():\n",
    "    print ('Stage %s, ALL open FC: %s, NEW optimal open FC:%s'%(k, str(set([i.split('_')[0][1] \\\n",
    "                                                for i in df_x[(df_x.k == k)&(df_x.value == 1)].name])),\n",
    "                                      str(set([i.split('_')[0][1] \\\n",
    "                                                for i in df_x[(df_x.k == k)&(df_x.value == 1)].name])\\\n",
    "                                          - open_dc )))\n",
    "    open_dc = set([i.split('_')[0][1] for i in df_x[(df_x.k == k)&(df_x.value == 1)].name])\n"
   ]
  },
  {
   "cell_type": "markdown",
   "metadata": {},
   "source": [
    "#### 1 FC case plot"
   ]
  },
  {
   "cell_type": "code",
   "execution_count": 10,
   "metadata": {},
   "outputs": [],
   "source": [
    "# this array includes the coordinates of fulfillment centers\n",
    "# there are 10 fulfillment center locations\n",
    "# for each fulfillment center, we keep x and y coordinates\n",
    "nofcs = 10\n",
    "fcs = [ 0 for j in range ( nofcs ) ]\n",
    "fcs[0] = [60 , 15]\n",
    "fcs[1] = [26 , 36]\n",
    "fcs[2] = [73 , 34]\n",
    "fcs[3] = [57 , 54]\n",
    "fcs[4] = [18 , 19]\n",
    "fcs[5] = [11 , 1]\n",
    "fcs[6] = [60 , 77]\n",
    "fcs[7] = [68 , 44]\n",
    "fcs[8] = [97 , 65]\n",
    "fcs[9] = [4 , 79]\n",
    "\n",
    "# this array includes the coordinates of demand points\n",
    "# there are 10 demand points\n",
    "# for each demand point, we keep x and y coordinates\n",
    "# for this example, there are 20 demand points\n",
    "nodps = 20\n",
    "dps = [ 0 for j in range ( nodps ) ]\n",
    "dps[0] = [25 , 75]\n",
    "dps[1] = [49 , 7]\n",
    "dps[2] = [17 , 8]\n",
    "dps[3] = [12 , 84]\n",
    "dps[4] = [3 , 83]\n",
    "dps[5] = [57 , 5]\n",
    "dps[6] = [46 , 39]\n",
    "dps[7] = [83 , 89]\n",
    "dps[8] = [78 , 96]\n",
    "dps[9] = [27 , 44]\n",
    "dps[10] = [64 , 16]\n",
    "dps[11] = [52 , 86]\n",
    "dps[12] = [57 , 72]\n",
    "dps[13] = [33 , 55]\n",
    "dps[14] = [66 , 47]\n",
    "dps[15] = [25 , 28]\n",
    "dps[16] = [9 , 97]\n",
    "dps[17] = [85 , 87]\n",
    "dps[18] = [98 , 3]\n",
    "dps[19] = [19 , 97]"
   ]
  },
  {
   "cell_type": "code",
   "execution_count": 11,
   "metadata": {},
   "outputs": [
    {
     "data": {
      "image/png": "[encoded data removed]",
      "text/plain": [
       "<Figure size 432x288 with 1 Axes>"
      ]
     },
     "metadata": {
      "needs_background": "light"
     },
     "output_type": "display_data"
    }
   ],
   "source": [
    "# this array includes which fulfillment center each demand point is connected to\n",
    "# for this example, dem pnt 0 is connected to full cen 1, but dem pnt 8 is connected to full cen 6\n",
    "\n",
    "#period 1\n",
    "assgns = [ 0 for j in range ( nodps ) ]\n",
    "for assign in  [( int(i.split('_')[0][1]), int(i.split('_')[1])) \\\n",
    "         for i in df_y[(df_y.value==1)&(df_y.k=='1')].name.values]:\n",
    "    assgns[assign[1]] = assign[0]\n",
    "\n",
    "for fc in range( nofcs ):\n",
    "    plt.plot( fcs[ fc ][ 0 ]  , fcs[ fc ][ 1 ] , 'ro' , color = \"green\" , lw = 9 )\n",
    "    \n",
    "for dp in range( nodps ):\n",
    "    plt.plot( dps[ dp ][ 0 ]  , dps[ dp ][ 1 ] , 'ro' , color = \"red\" , lw = 9 )\n",
    "\n",
    "for dp in range( nodps ):\n",
    "    dpx = dps[ dp ][ 0 ]\n",
    "    dpy = dps[ dp ][ 1 ]\n",
    "    fcx = fcs[ assgns[ dp ] ][ 0 ]\n",
    "    fcy = fcs[ assgns[ dp ] ][ 1 ]\n",
    "    plt.plot( [ dpx , fcx ], [ dpy , fcy ]  , color = \"black\"  )\n",
    "    plt.title('stage 1, FC:6')\n",
    "\n",
    "plt.show()\n"
   ]
  },
  {
   "cell_type": "markdown",
   "metadata": {},
   "source": [
    "#### 2 FC case plot"
   ]
  },
  {
   "cell_type": "code",
   "execution_count": 12,
   "metadata": {},
   "outputs": [
    {
     "data": {
      "image/png": "[encoded data removed]",
      "text/plain": [
       "<Figure size 432x288 with 1 Axes>"
      ]
     },
     "metadata": {
      "needs_background": "light"
     },
     "output_type": "display_data"
    }
   ],
   "source": [
    "# this array includes which fulfillment center each demand point is connected to\n",
    "# for this example, dem pnt 0 is connected to full cen 1, but dem pnt 8 is connected to full cen 6\n",
    "\n",
    "#period 2\n",
    "assgns = [ 0 for j in range ( nodps ) ]\n",
    "for assign in  [( int(i.split('_')[0][1]), int(i.split('_')[1])) \\\n",
    "         for i in df_y[(df_y.value==1)&(df_y.k=='2')].name.values]:\n",
    "    assgns[assign[1]] = assign[0]\n",
    "\n",
    "for fc in range( nofcs ):\n",
    "    plt.plot( fcs[ fc ][ 0 ]  , fcs[ fc ][ 1 ] , 'ro' , color = \"green\" , lw = 9 )\n",
    "    \n",
    "for dp in range( nodps ):\n",
    "    plt.plot( dps[ dp ][ 0 ]  , dps[ dp ][ 1 ] , 'ro' , color = \"red\" , lw = 9 )\n",
    "\n",
    "for dp in range( nodps ):\n",
    "    dpx = dps[ dp ][ 0 ]\n",
    "    dpy = dps[ dp ][ 1 ]\n",
    "    fcx = fcs[ assgns[ dp ] ][ 0 ]\n",
    "    fcy = fcs[ assgns[ dp ] ][ 1 ]\n",
    "    plt.plot( [ dpx , fcx ], [ dpy , fcy ]  , color = \"black\"  )\n",
    "    plt.title('stage 2, FC:0,6')\n",
    "\n",
    "plt.show()"
   ]
  },
  {
   "cell_type": "markdown",
   "metadata": {},
   "source": [
    "#### 3 FC case plot"
   ]
  },
  {
   "cell_type": "code",
   "execution_count": 13,
   "metadata": {},
   "outputs": [
    {
     "data": {
      "image/png": "[encoded data removed]",
      "text/plain": [
       "<Figure size 432x288 with 1 Axes>"
      ]
     },
     "metadata": {
      "needs_background": "light"
     },
     "output_type": "display_data"
    }
   ],
   "source": [
    "# this array includes which fulfillment center each demand point is connected to\n",
    "# for this example, dem pnt 0 is connected to full cen 1, but dem pnt 8 is connected to full cen 6\n",
    "\n",
    "#period 3\n",
    "assgns = [ 0 for j in range ( nodps ) ]\n",
    "for assign in  [( int(i.split('_')[0][1]), int(i.split('_')[1])) \\\n",
    "         for i in df_y[(df_y.value==1)&(df_y.k=='3')].name.values]:\n",
    "    assgns[assign[1]] = assign[0]\n",
    "\n",
    "for fc in range( nofcs ):\n",
    "    plt.plot( fcs[ fc ][ 0 ]  , fcs[ fc ][ 1 ] , 'ro' , color = \"green\" , lw = 9 )\n",
    "    \n",
    "for dp in range( nodps ):\n",
    "    plt.plot( dps[ dp ][ 0 ]  , dps[ dp ][ 1 ] , 'ro' , color = \"red\" , lw = 9 )\n",
    "\n",
    "for dp in range( nodps ):\n",
    "    dpx = dps[ dp ][ 0 ]\n",
    "    dpy = dps[ dp ][ 1 ]\n",
    "    fcx = fcs[ assgns[ dp ] ][ 0 ]\n",
    "    fcy = fcs[ assgns[ dp ] ][ 1 ]\n",
    "    plt.plot( [ dpx , fcx ], [ dpy , fcy ]  , color = \"black\"  )\n",
    "    plt.title('stage 3, FC:0,6,9')\n",
    "\n",
    "plt.show()"
   ]
  },
  {
   "cell_type": "code",
   "execution_count": null,
   "metadata": {},
   "outputs": [],
   "source": []
  },
  {
   "cell_type": "code",
   "execution_count": null,
   "metadata": {},
   "outputs": [],
   "source": []
  },
  {
   "cell_type": "code",
   "execution_count": null,
   "metadata": {},
   "outputs": [],
   "source": []
  }
 ],
 "metadata": {
  "hide_input": false,
  "kernelspec": {
   "display_name": "Python 3",
   "language": "python",
   "name": "python3"
  },
  "language_info": {
   "codemirror_mode": {
    "name": "ipython",
    "version": 3
   },
   "file_extension": ".py",
   "mimetype": "text/x-python",
   "name": "python",
   "nbconvert_exporter": "python",
   "pygments_lexer": "ipython3",
   "version": "3.7.2"
  },
  "latex_envs": {
   "LaTeX_envs_menu_present": true,
   "autoclose": false,
   "autocomplete": true,
   "bibliofile": "biblio.bib",
   "cite_by": "apalike",
   "current_citInitial": 1,
   "eqLabelWithNumbers": true,
   "eqNumInitial": 1,
   "hotkeys": {
    "equation": "Ctrl-E",
    "itemize": "Ctrl-I"
   },
   "labels_anchors": false,
   "latex_user_defs": false,
   "report_style_numbering": false,
   "user_envs_cfg": false
  },
  "toc": {
   "base_numbering": 1,
   "nav_menu": {},
   "number_sections": true,
   "sideBar": true,
   "skip_h1_title": false,
   "title_cell": "Table of Contents",
   "title_sidebar": "Contents",
   "toc_cell": false,
   "toc_position": {},
   "toc_section_display": true,
   "toc_window_display": false
  }
 },
 "nbformat": 4,
 "nbformat_minor": 2
}
