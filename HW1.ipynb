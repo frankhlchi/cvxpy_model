{
 "cells": [
  {
   "cell_type": "code",
   "execution_count": 4,
   "metadata": {
    "ExecuteTime": {
     "end_time": "2019-09-20T23:14:31.199617Z",
     "start_time": "2019-09-20T23:14:31.196357Z"
    }
   },
   "outputs": [],
   "source": [
    "import cvxpy as cp\n",
    "import numpy as np"
   ]
  },
  {
   "cell_type": "code",
   "execution_count": 8,
   "metadata": {
    "ExecuteTime": {
     "end_time": "2019-09-20T23:15:53.785571Z",
     "start_time": "2019-09-20T23:15:53.764591Z"
    }
   },
   "outputs": [
    {
     "name": "stdout",
     "output_type": "stream",
     "text": [
      "52.94117647058823 37.05882352941177 32.82352941176471\n"
     ]
    }
   ],
   "source": [
    "x_1 = cp.Variable()\n",
    "x_2 = cp.Variable()\n",
    "objective = cp.Minimize(0.2*x_1 + 0.6*x_2)\n",
    "constraints = [x_1 + x_2 == 90,\n",
    "               0.009*x_1 + 0.008*x_2 >= 0 ,\n",
    "               0.21*x_1 - 0.3*x_2 <=0 ,\n",
    "               x_1 >=0, \n",
    "               x_2 >=0]\n",
    "prob = cp.Problem(objective, constraints)\n",
    "result = prob.solve()\n",
    "# The optimal value for x is stored in `x.value`.\n",
    "print(x_1.value,x_2.value,prob.value)\n"
   ]
  },
  {
   "cell_type": "code",
   "execution_count": 10,
   "metadata": {
    "ExecuteTime": {
     "end_time": "2019-09-20T23:28:53.512372Z",
     "start_time": "2019-09-20T23:28:53.506999Z"
    }
   },
   "outputs": [],
   "source": [
    "x_1 = cp.Variable(5)\n",
    "x_2 = cp.Variable(4)\n",
    "x_3 = cp.Variable(3)\n",
    "x_4 = cp.Variable(2)\n",
    "x_5 = cp.Variable(1)\n",
    "objective = cp.Minimize(cp.sum())"
   ]
  },
  {
   "cell_type": "code",
   "execution_count": null,
   "metadata": {},
   "outputs": [],
   "source": []
  },
  {
   "cell_type": "code",
   "execution_count": null,
   "metadata": {},
   "outputs": [],
   "source": []
  }
 ],
 "metadata": {
  "kernelspec": {
   "display_name": "Python 3",
   "language": "python",
   "name": "python3"
  },
  "language_info": {
   "codemirror_mode": {
    "name": "ipython",
    "version": 3
   },
   "file_extension": ".py",
   "mimetype": "text/x-python",
   "name": "python",
   "nbconvert_exporter": "python",
   "pygments_lexer": "ipython3",
   "version": "3.7.2"
  },
  "latex_envs": {
   "LaTeX_envs_menu_present": true,
   "autoclose": false,
   "autocomplete": true,
   "bibliofile": "biblio.bib",
   "cite_by": "apalike",
   "current_citInitial": 1,
   "eqLabelWithNumbers": true,
   "eqNumInitial": 1,
   "hotkeys": {
    "equation": "Ctrl-E",
    "itemize": "Ctrl-I"
   },
   "labels_anchors": false,
   "latex_user_defs": false,
   "report_style_numbering": false,
   "user_envs_cfg": false
  },
  "toc": {
   "base_numbering": 1,
   "nav_menu": {},
   "number_sections": true,
   "sideBar": true,
   "skip_h1_title": false,
   "title_cell": "Table of Contents",
   "title_sidebar": "Contents",
   "toc_cell": false,
   "toc_position": {},
   "toc_section_display": true,
   "toc_window_display": false
  }
 },
 "nbformat": 4,
 "nbformat_minor": 2
}
