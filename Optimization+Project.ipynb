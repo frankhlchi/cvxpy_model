{
 "cells": [
  {
   "cell_type": "code",
   "execution_count": 1,
   "metadata": {
    "collapsed": true
   },
   "outputs": [],
   "source": [
    "# Read text files\n",
    "from gurobipy import *\n",
    "import numpy as np\n",
    "import math\n",
    "import matplotlib.pyplot"
   ]
  },
  {
   "cell_type": "code",
   "execution_count": 2,
   "metadata": {},
   "outputs": [
    {
     "name": "stdout",
     "output_type": "stream",
     "text": [
      "Academic license - for non-commercial use only\n"
     ]
    }
   ],
   "source": [
    "# Extract coordiantes and orgainze them\n",
    "myModel = Model( \"Project\" )\n",
    "airport = ['a','b','c']\n",
    "combination = ['ab','ac','ba','bc','ca','cb']"
   ]
  },
  {
   "cell_type": "code",
   "execution_count": 3,
   "metadata": {
    "collapsed": true
   },
   "outputs": [],
   "source": [
    "# Create decision variables x and store them in the arrary myVars\n",
    "myVars = []\n",
    "for d in range (1,6):\n",
    "    for i in range (1,7):\n",
    "        curVar = myModel.addVar( vtype = GRB.BINARY, name = \"E\" + str(d) + combination[i-1] )\n",
    "        myVars.append(curVar)"
   ]
  },
  {
   "cell_type": "code",
   "execution_count": 4,
   "metadata": {
    "collapsed": true
   },
   "outputs": [],
   "source": [
    "for d in range (1,6):\n",
    "    for i in range (1,7):\n",
    "        curVar = myModel.addVar( vtype = GRB.BINARY, name = \"F\" + str(d) + combination[i-1] )\n",
    "        myVars.append(curVar)"
   ]
  },
  {
   "cell_type": "code",
   "execution_count": 5,
   "metadata": {
    "collapsed": true
   },
   "outputs": [],
   "source": [
    "for d in range (1,6):\n",
    "    for i in range (1,7):\n",
    "        curVar = myModel.addVar( vtype = GRB.BINARY, name = \"H\" + str(d) + combination[i-1] )\n",
    "        myVars.append(curVar)"
   ]
  },
  {
   "cell_type": "code",
   "execution_count": 6,
   "metadata": {
    "collapsed": true
   },
   "outputs": [],
   "source": [
    "for d in range (1,6):\n",
    "    for i in range (1,4):\n",
    "        curVar = myModel.addVar( vtype = GRB.BINARY, name = \"I\" + str(d) + airport[i-1] )\n",
    "        myVars.append(curVar)"
   ]
  },
  {
   "cell_type": "code",
   "execution_count": 7,
   "metadata": {
    "collapsed": true
   },
   "outputs": [],
   "source": [
    "myModel.update()"
   ]
  },
  {
   "cell_type": "code",
   "execution_count": 7,
   "metadata": {
    "collapsed": true
   },
   "outputs": [],
   "source": [
    "# Create a linear expression for the objective\n",
    "objExpr = LinExpr()\n",
    "\n",
    "\n",
    "myModel.setObjective(objExpr, GRB.MINIMIZE)"
   ]
  },
  {
   "cell_type": "code",
   "execution_count": null,
   "metadata": {
    "collapsed": true
   },
   "outputs": [],
   "source": []
  },
  {
   "cell_type": "code",
   "execution_count": 8,
   "metadata": {
    "collapsed": true
   },
   "outputs": [],
   "source": [
    "# Create constraints\n",
    "constExpr = LinExpr()\n",
    "\n",
    "\n",
    "myModel.update()"
   ]
  },
  {
   "cell_type": "code",
   "execution_count": 1,
   "metadata": {},
   "outputs": [
    {
     "ename": "NameError",
     "evalue": "name 'myModel' is not defined",
     "output_type": "error",
     "traceback": [
      "\u001b[0;31m---------------------------------------------------------------------------\u001b[0m",
      "\u001b[0;31mNameError\u001b[0m                                 Traceback (most recent call last)",
      "\u001b[0;32m<ipython-input-1-2cb559236199>\u001b[0m in \u001b[0;36m<module>\u001b[0;34m()\u001b[0m\n\u001b[1;32m      1\u001b[0m \u001b[0;31m# Solve\u001b[0m\u001b[0;34m\u001b[0m\u001b[0;34m\u001b[0m\u001b[0m\n\u001b[0;32m----> 2\u001b[0;31m \u001b[0mmyModel\u001b[0m\u001b[0;34m.\u001b[0m\u001b[0moptimize\u001b[0m\u001b[0;34m(\u001b[0m\u001b[0;34m)\u001b[0m\u001b[0;34m\u001b[0m\u001b[0m\n\u001b[0m",
      "\u001b[0;31mNameError\u001b[0m: name 'myModel' is not defined"
     ]
    }
   ],
   "source": [
    "# Solve\n",
    "myModel.optimize()"
   ]
  },
  {
   "cell_type": "code",
   "execution_count": 10,
   "metadata": {
    "collapsed": true
   },
   "outputs": [],
   "source": [
    "myModel.write( \"project.lp\" )"
   ]
  },
  {
   "cell_type": "code",
   "execution_count": 11,
   "metadata": {},
   "outputs": [
    {
     "name": "stdout",
     "output_type": "stream",
     "text": [
      "\n",
      "    Variable            x \n",
      "-------------------------\n",
      "         x12            1 \n",
      "         x71            1 \n",
      "        x103            1 \n",
      "        y122            1 \n",
      "        y123            1 \n",
      "        y132            1 \n",
      "        y133            1 \n",
      "        y162            1 \n",
      "        y163            1 \n",
      "        y172            1 \n",
      "        y173            1 \n",
      "       y1102            1 \n",
      "       y1112            1 \n",
      "       y1113            1 \n",
      "       y1162            1 \n",
      "       y1163            1 \n",
      "       y1192            1 \n",
      "       y1193            1 \n",
      "        y711            1 \n",
      "        y712            1 \n",
      "        y721            1 \n",
      "        y731            1 \n",
      "        y741            1 \n",
      "        y742            1 \n",
      "        y751            1 \n",
      "        y752            1 \n",
      "        y761            1 \n",
      "        y771            1 \n",
      "        y781            1 \n",
      "        y782            1 \n",
      "        y783            1 \n",
      "        y791            1 \n",
      "        y792            1 \n",
      "        y793            1 \n",
      "       y7101            1 \n",
      "       y7111            1 \n",
      "       y7121            1 \n",
      "       y7122            1 \n",
      "       y7123            1 \n",
      "       y7131            1 \n",
      "       y7132            1 \n",
      "       y7133            1 \n",
      "       y7141            1 \n",
      "       y7142            1 \n",
      "       y7143            1 \n",
      "       y7151            1 \n",
      "       y7152            1 \n",
      "       y7153            1 \n",
      "       y7161            1 \n",
      "       y7171            1 \n",
      "       y7172            1 \n",
      "       y7181            1 \n",
      "       y7182            1 \n",
      "       y7183            1 \n",
      "       y7191            1 \n",
      "       y7201            1 \n",
      "       y7202            1 \n",
      "       y1013            1 \n",
      "       y1043            1 \n",
      "       y1053            1 \n",
      "      y10103            1 \n",
      "      y10173            1 \n",
      "      y10203            1 \n",
      "Optimal Objective:12760.151023497481\n"
     ]
    }
   ],
   "source": [
    "# Print Result\n",
    "myModel.printAttr('x')\n",
    "print(\"Optimal Objective:\" + str(myModel.ObjVal))"
   ]
  }
 ],
 "metadata": {
  "kernelspec": {
   "display_name": "Python 3",
   "language": "python",
   "name": "python3"
  },
  "language_info": {
   "codemirror_mode": {
    "name": "ipython",
    "version": 3
   },
   "file_extension": ".py",
   "mimetype": "text/x-python",
   "name": "python",
   "nbconvert_exporter": "python",
   "pygments_lexer": "ipython3",
   "version": "3.6.3"
  }
 },
 "nbformat": 4,
 "nbformat_minor": 2
}
